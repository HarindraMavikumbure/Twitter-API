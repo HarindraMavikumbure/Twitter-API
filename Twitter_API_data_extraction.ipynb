{
  "nbformat": 4,
  "nbformat_minor": 0,
  "metadata": {
    "colab": {
      "provenance": [],
      "authorship_tag": "ABX9TyP8YvnP7ww9mLPwClmlQquK",
      "include_colab_link": true
    },
    "kernelspec": {
      "name": "python3",
      "display_name": "Python 3"
    },
    "language_info": {
      "name": "python"
    }
  },
  "cells": [
    {
      "cell_type": "markdown",
      "metadata": {
        "id": "view-in-github",
        "colab_type": "text"
      },
      "source": [
        "<a href=\"https://colab.research.google.com/github/HarindraMavikumbure/Twitter-API/blob/main/Twitter_API_data_extraction.ipynb\" target=\"_parent\"><img src=\"https://colab.research.google.com/assets/colab-badge.svg\" alt=\"Open In Colab\"/></a>"
      ]
    },
    {
      "cell_type": "code",
      "execution_count": null,
      "metadata": {
        "id": "zL0oZ04b3xem"
      },
      "outputs": [],
      "source": [
        "# import tweepy\n",
        "import tweepy as tw\n",
        "import pandas as pd"
      ]
    },
    {
      "cell_type": "code",
      "source": [
        "# your Twitter API key and API secret\n",
        "my_api_key = \"aWkaBD0BDf7GzU9dKx81Lsx7e\"\n",
        "my_api_secret = \"WaUbNummOgdtKOPNGhdv8JKJPzYJnDPCeIwJoBRJ5gFptQizd9\""
      ],
      "metadata": {
        "id": "2Antnpcz6lUs"
      },
      "execution_count": null,
      "outputs": []
    },
    {
      "cell_type": "code",
      "source": [
        "# authenticate\n",
        "auth = tw.OAuthHandler(my_api_key, my_api_secret)\n",
        "api = tw.API(auth, wait_on_rate_limit=True)"
      ],
      "metadata": {
        "id": "ahb3kMJb6ndD"
      },
      "execution_count": null,
      "outputs": []
    },
    {
      "cell_type": "code",
      "source": [
        "#get tweets by hashtags\n",
        "\n",
        "search_query = \"#covid19 -filter:retweets\""
      ],
      "metadata": {
        "id": "cfRyRgzj6y9S"
      },
      "execution_count": null,
      "outputs": []
    },
    {
      "cell_type": "code",
      "source": [
        "tweets = tw.Cursor(api.search,\n",
        "              q=search_query,\n",
        "              lang=\"en\",\n",
        "              since=\"2020-09-16\", tweet_mode='extended').items(50)\n",
        "# store the API responses in a list\n",
        "tweets_copy = []\n",
        "for tweet in tweets:\n",
        "    tweets_copy.append(tweet)\n",
        "    \n",
        "print(\"Total Tweets fetched:\", len(tweets_copy))"
      ],
      "metadata": {
        "colab": {
          "base_uri": "https://localhost:8080/"
        },
        "id": "OYFAVm1g62u1",
        "outputId": "4a9e739e-5ff6-446d-a338-1efc3e7f871d"
      },
      "execution_count": null,
      "outputs": [
        {
          "output_type": "stream",
          "name": "stdout",
          "text": [
            "Total Tweets fetched: 50\n"
          ]
        }
      ]
    },
    {
      "cell_type": "code",
      "source": [
        "\n",
        "# intialize the dataframe\n",
        "tweets_df = pd.DataFrame()\n",
        "# populate the dataframe\n",
        "for tweet in tweets_copy:\n",
        "    hashtags = []\n",
        "    try:\n",
        "        for hashtag in tweet.entities[\"hashtags\"]:\n",
        "            hashtags.append(hashtag[\"text\"])\n",
        "        text = api.get_status(id=tweet.id, tweet_mode='extended').full_text\n",
        "    except:\n",
        "        pass\n",
        "    tweets_df = tweets_df.append(pd.DataFrame({'user_name': tweet.user.name, \n",
        "                                               'user_location': tweet.user.location,\\\n",
        "                                               'user_description': tweet.user.description,\n",
        "                                               'user_verified': tweet.user.verified,\n",
        "                                               'date': tweet.created_at,\n",
        "                                               'text': text, \n",
        "                                               'hashtags': [hashtags if hashtags else None],\n",
        "                                               'source': tweet.source}))\n",
        "    tweets_df = tweets_df.reset_index(drop=True)\n",
        "# show the dataframe\n",
        "tweets_df.head()"
      ],
      "metadata": {
        "colab": {
          "base_uri": "https://localhost:8080/",
          "height": 333
        },
        "id": "Rhr8cduc7LCo",
        "outputId": "e7a0e370-2eea-4616-a513-239b7f763403"
      },
      "execution_count": null,
      "outputs": [
        {
          "output_type": "execute_result",
          "data": {
            "text/plain": [
              "             user_name       user_location  \\\n",
              "0  Christopher Nichols  Unknown, in motion   \n",
              "1         MikeLowrey69                       \n",
              "2       Deborah Mather     Murton, England   \n",
              "3         Tom Williams  Sydney, Australia    \n",
              "4      Random Thoughts                       \n",
              "\n",
              "                                    user_description  user_verified  \\\n",
              "0  Historian, Hayes Chair @OhioState Mershon Ctr ...          False   \n",
              "1  Fitness dude, bad boy! 🇬🇧 \\n*what they gonna d...          False   \n",
              "2                 I'm me. You deserve what you earn.          False   \n",
              "3                                             🧪💉💉💉💉🏄          False   \n",
              "4  Searching for Truth in media in a sea of misin...          False   \n",
              "\n",
              "                 date                                               text  \\\n",
              "0 2022-09-15 20:59:33  Want to learn more? Here's two conversations I...   \n",
              "1 2022-09-15 20:59:30  Nothing to see here #COVID19 🚨 https://t.co/L5...   \n",
              "2 2022-09-15 20:59:23  @sophielouisecc I hope it does mean ALL NHS wo...   \n",
              "3 2022-09-15 20:59:17  @DrTedros @mvankerkhove Your message is being ...   \n",
              "4 2022-09-15 20:59:11  @davidgura Helps with the labor shortage and h...   \n",
              "\n",
              "    hashtags               source  \n",
              "0       None      Twitter Web App  \n",
              "1  [COVID19]  Twitter for Android  \n",
              "2       None  Twitter for Android  \n",
              "3       None  Twitter for Android  \n",
              "4  [Covid19]      Twitter Web App  "
            ],
            "text/html": [
              "\n",
              "  <div id=\"df-a44047ed-c37f-41c7-9f77-2b0f879ec521\">\n",
              "    <div class=\"colab-df-container\">\n",
              "      <div>\n",
              "<style scoped>\n",
              "    .dataframe tbody tr th:only-of-type {\n",
              "        vertical-align: middle;\n",
              "    }\n",
              "\n",
              "    .dataframe tbody tr th {\n",
              "        vertical-align: top;\n",
              "    }\n",
              "\n",
              "    .dataframe thead th {\n",
              "        text-align: right;\n",
              "    }\n",
              "</style>\n",
              "<table border=\"1\" class=\"dataframe\">\n",
              "  <thead>\n",
              "    <tr style=\"text-align: right;\">\n",
              "      <th></th>\n",
              "      <th>user_name</th>\n",
              "      <th>user_location</th>\n",
              "      <th>user_description</th>\n",
              "      <th>user_verified</th>\n",
              "      <th>date</th>\n",
              "      <th>text</th>\n",
              "      <th>hashtags</th>\n",
              "      <th>source</th>\n",
              "    </tr>\n",
              "  </thead>\n",
              "  <tbody>\n",
              "    <tr>\n",
              "      <th>0</th>\n",
              "      <td>Christopher Nichols</td>\n",
              "      <td>Unknown, in motion</td>\n",
              "      <td>Historian, Hayes Chair @OhioState Mershon Ctr ...</td>\n",
              "      <td>False</td>\n",
              "      <td>2022-09-15 20:59:33</td>\n",
              "      <td>Want to learn more? Here's two conversations I...</td>\n",
              "      <td>None</td>\n",
              "      <td>Twitter Web App</td>\n",
              "    </tr>\n",
              "    <tr>\n",
              "      <th>1</th>\n",
              "      <td>MikeLowrey69</td>\n",
              "      <td></td>\n",
              "      <td>Fitness dude, bad boy! 🇬🇧 \\n*what they gonna d...</td>\n",
              "      <td>False</td>\n",
              "      <td>2022-09-15 20:59:30</td>\n",
              "      <td>Nothing to see here #COVID19 🚨 https://t.co/L5...</td>\n",
              "      <td>[COVID19]</td>\n",
              "      <td>Twitter for Android</td>\n",
              "    </tr>\n",
              "    <tr>\n",
              "      <th>2</th>\n",
              "      <td>Deborah Mather</td>\n",
              "      <td>Murton, England</td>\n",
              "      <td>I'm me. You deserve what you earn.</td>\n",
              "      <td>False</td>\n",
              "      <td>2022-09-15 20:59:23</td>\n",
              "      <td>@sophielouisecc I hope it does mean ALL NHS wo...</td>\n",
              "      <td>None</td>\n",
              "      <td>Twitter for Android</td>\n",
              "    </tr>\n",
              "    <tr>\n",
              "      <th>3</th>\n",
              "      <td>Tom Williams</td>\n",
              "      <td>Sydney, Australia</td>\n",
              "      <td>🧪💉💉💉💉🏄</td>\n",
              "      <td>False</td>\n",
              "      <td>2022-09-15 20:59:17</td>\n",
              "      <td>@DrTedros @mvankerkhove Your message is being ...</td>\n",
              "      <td>None</td>\n",
              "      <td>Twitter for Android</td>\n",
              "    </tr>\n",
              "    <tr>\n",
              "      <th>4</th>\n",
              "      <td>Random Thoughts</td>\n",
              "      <td></td>\n",
              "      <td>Searching for Truth in media in a sea of misin...</td>\n",
              "      <td>False</td>\n",
              "      <td>2022-09-15 20:59:11</td>\n",
              "      <td>@davidgura Helps with the labor shortage and h...</td>\n",
              "      <td>[Covid19]</td>\n",
              "      <td>Twitter Web App</td>\n",
              "    </tr>\n",
              "  </tbody>\n",
              "</table>\n",
              "</div>\n",
              "      <button class=\"colab-df-convert\" onclick=\"convertToInteractive('df-a44047ed-c37f-41c7-9f77-2b0f879ec521')\"\n",
              "              title=\"Convert this dataframe to an interactive table.\"\n",
              "              style=\"display:none;\">\n",
              "        \n",
              "  <svg xmlns=\"http://www.w3.org/2000/svg\" height=\"24px\"viewBox=\"0 0 24 24\"\n",
              "       width=\"24px\">\n",
              "    <path d=\"M0 0h24v24H0V0z\" fill=\"none\"/>\n",
              "    <path d=\"M18.56 5.44l.94 2.06.94-2.06 2.06-.94-2.06-.94-.94-2.06-.94 2.06-2.06.94zm-11 1L8.5 8.5l.94-2.06 2.06-.94-2.06-.94L8.5 2.5l-.94 2.06-2.06.94zm10 10l.94 2.06.94-2.06 2.06-.94-2.06-.94-.94-2.06-.94 2.06-2.06.94z\"/><path d=\"M17.41 7.96l-1.37-1.37c-.4-.4-.92-.59-1.43-.59-.52 0-1.04.2-1.43.59L10.3 9.45l-7.72 7.72c-.78.78-.78 2.05 0 2.83L4 21.41c.39.39.9.59 1.41.59.51 0 1.02-.2 1.41-.59l7.78-7.78 2.81-2.81c.8-.78.8-2.07 0-2.86zM5.41 20L4 18.59l7.72-7.72 1.47 1.35L5.41 20z\"/>\n",
              "  </svg>\n",
              "      </button>\n",
              "      \n",
              "  <style>\n",
              "    .colab-df-container {\n",
              "      display:flex;\n",
              "      flex-wrap:wrap;\n",
              "      gap: 12px;\n",
              "    }\n",
              "\n",
              "    .colab-df-convert {\n",
              "      background-color: #E8F0FE;\n",
              "      border: none;\n",
              "      border-radius: 50%;\n",
              "      cursor: pointer;\n",
              "      display: none;\n",
              "      fill: #1967D2;\n",
              "      height: 32px;\n",
              "      padding: 0 0 0 0;\n",
              "      width: 32px;\n",
              "    }\n",
              "\n",
              "    .colab-df-convert:hover {\n",
              "      background-color: #E2EBFA;\n",
              "      box-shadow: 0px 1px 2px rgba(60, 64, 67, 0.3), 0px 1px 3px 1px rgba(60, 64, 67, 0.15);\n",
              "      fill: #174EA6;\n",
              "    }\n",
              "\n",
              "    [theme=dark] .colab-df-convert {\n",
              "      background-color: #3B4455;\n",
              "      fill: #D2E3FC;\n",
              "    }\n",
              "\n",
              "    [theme=dark] .colab-df-convert:hover {\n",
              "      background-color: #434B5C;\n",
              "      box-shadow: 0px 1px 3px 1px rgba(0, 0, 0, 0.15);\n",
              "      filter: drop-shadow(0px 1px 2px rgba(0, 0, 0, 0.3));\n",
              "      fill: #FFFFFF;\n",
              "    }\n",
              "  </style>\n",
              "\n",
              "      <script>\n",
              "        const buttonEl =\n",
              "          document.querySelector('#df-a44047ed-c37f-41c7-9f77-2b0f879ec521 button.colab-df-convert');\n",
              "        buttonEl.style.display =\n",
              "          google.colab.kernel.accessAllowed ? 'block' : 'none';\n",
              "\n",
              "        async function convertToInteractive(key) {\n",
              "          const element = document.querySelector('#df-a44047ed-c37f-41c7-9f77-2b0f879ec521');\n",
              "          const dataTable =\n",
              "            await google.colab.kernel.invokeFunction('convertToInteractive',\n",
              "                                                     [key], {});\n",
              "          if (!dataTable) return;\n",
              "\n",
              "          const docLinkHtml = 'Like what you see? Visit the ' +\n",
              "            '<a target=\"_blank\" href=https://colab.research.google.com/notebooks/data_table.ipynb>data table notebook</a>'\n",
              "            + ' to learn more about interactive tables.';\n",
              "          element.innerHTML = '';\n",
              "          dataTable['output_type'] = 'display_data';\n",
              "          await google.colab.output.renderOutput(dataTable, element);\n",
              "          const docLink = document.createElement('div');\n",
              "          docLink.innerHTML = docLinkHtml;\n",
              "          element.appendChild(docLink);\n",
              "        }\n",
              "      </script>\n",
              "    </div>\n",
              "  </div>\n",
              "  "
            ]
          },
          "metadata": {},
          "execution_count": 15
        }
      ]
    },
    {
      "cell_type": "code",
      "source": [
        "#save to csv \n",
        "tweets_df.to_csv('tweets_by_hashtags.csv')"
      ],
      "metadata": {
        "id": "Myq2daUm7UpP"
      },
      "execution_count": null,
      "outputs": []
    }
  ]
}