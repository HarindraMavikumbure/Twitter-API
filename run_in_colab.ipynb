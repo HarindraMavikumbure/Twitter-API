{
  "nbformat": 4,
  "nbformat_minor": 0,
  "metadata": {
    "colab": {
      "provenance": [],
      "collapsed_sections": [],
      "authorship_tag": "ABX9TyOSbbsNOXz8yeL8Eiqyyumz",
      "include_colab_link": true
    },
    "kernelspec": {
      "name": "python3",
      "display_name": "Python 3"
    },
    "language_info": {
      "name": "python"
    }
  },
  "cells": [
    {
      "cell_type": "markdown",
      "metadata": {
        "id": "view-in-github",
        "colab_type": "text"
      },
      "source": [
        "<a href=\"https://colab.research.google.com/github/HarindraMavikumbure/Twitter-API/blob/main/run_in_colab.ipynb\" target=\"_parent\"><img src=\"https://colab.research.google.com/assets/colab-badge.svg\" alt=\"Open In Colab\"/></a>"
      ]
    },
    {
      "cell_type": "code",
      "execution_count": null,
      "metadata": {
        "colab": {
          "base_uri": "https://localhost:8080/"
        },
        "id": "YTZFWZHSWdlJ",
        "outputId": "e82b9cb6-ffa4-4eb7-d221-93c352af34c7"
      },
      "outputs": [
        {
          "output_type": "stream",
          "name": "stdout",
          "text": [
            "Cloning into 'Twitter-API'...\n",
            "remote: Enumerating objects: 18, done.\u001b[K\n",
            "remote: Counting objects: 100% (18/18), done.\u001b[K\n",
            "remote: Compressing objects: 100% (16/16), done.\u001b[K\n",
            "remote: Total 18 (delta 6), reused 0 (delta 0), pack-reused 0\u001b[K\n",
            "Unpacking objects: 100% (18/18), done.\n"
          ]
        }
      ],
      "source": [
        "!git clone https://github.com/HarindraMavikumbure/Twitter-API"
      ]
    },
    {
      "cell_type": "code",
      "source": [
        "import tweepy \n",
        "import pandas\n",
        "import configparser\n",
        "!python Twitter-API/main.py\n",
        "\n"
      ],
      "metadata": {
        "id": "W5NGBxd6otom",
        "colab": {
          "base_uri": "https://localhost:8080/"
        },
        "outputId": "c1c39c62-7ecd-4e71-92d0-39cf51bb8b27"
      },
      "execution_count": null,
      "outputs": [
        {
          "output_type": "stream",
          "name": "stdout",
          "text": [
            "Total Tweets fetched: 50\n"
          ]
        }
      ]
    }
  ]
}